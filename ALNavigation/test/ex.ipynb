{
 "cells": [
  {
   "cell_type": "code",
   "execution_count": 1,
   "metadata": {},
   "outputs": [
    {
     "name": "stderr",
     "output_type": "stream",
     "text": [
      "usage: ipykernel_launcher.py [-h] [--ip IP] [--port PORT]\n",
      "ipykernel_launcher.py: error: unrecognized arguments: -f /run/user/1000/jupyter/kernel-8a05021e-c9ee-47e1-b771-b13b7bc96a66.json\n"
     ]
    },
    {
     "ename": "SystemExit",
     "evalue": "2",
     "output_type": "error",
     "traceback": [
      "An exception has occurred, use %tb to see the full traceback.\n",
      "\u001b[0;31mSystemExit\u001b[0m\u001b[0;31m:\u001b[0m 2\n"
     ]
    },
    {
     "name": "stderr",
     "output_type": "stream",
     "text": [
      "/home/steve/.local/lib/python2.7/site-packages/IPython/core/interactiveshell.py:2886: UserWarning: To exit: use 'exit', 'quit', or Ctrl-D.\n",
      "  warn(\"To exit: use 'exit', 'quit', or Ctrl-D.\", stacklevel=1)\n"
     ]
    }
   ],
   "source": [
    "\n",
    "#! /usr/bin/env python\n",
    "# -*- encoding: UTF-8 -*-\n",
    "\n",
    "\"\"\"예제 : 탐색 method를 사용한다. \"\"\"\n",
    "\n",
    "import qi\n",
    "import argparse\n",
    "import sys\n",
    "import Image\n",
    "import cv2\n",
    "import numpy as np\n",
    "\n",
    "\n",
    "drawing = False \n",
    "mode = True \n",
    "ix,iy = -1,-1\n",
    "\n",
    "def get_location(event, x,y, flags, param):\n",
    "    global ix,iy, drawing, mode\n",
    "\n",
    "    if event == cv2.EVENT_LBUTTONDOWN: \n",
    "        drawing = True \n",
    "        print(x,y)\n",
    "\n",
    "        \n",
    "def main(session):\n",
    "    \"\"\"\n",
    "    이것은 탐색 method를 사용하는 예제이다.\n",
    "    \"\"\"\n",
    "    # ALNavigation, ALMotion를 프록시로 할당한다.\n",
    "    navigation_service = session.service(\"ALNavigation\")\n",
    "    motion_service = session.service(\"ALMotion\")\n",
    "\n",
    "    # 로봇 깨우기 구동.\n",
    "    motion_service.wakeUp()\n",
    "\n",
    "    # 반경 2m 내의 주변 환경 탐색\n",
    "    radius = 0.3\n",
    "    error_code = navigation_service.explore(radius)\n",
    "    if error_code != 0:\n",
    "        print \"Exploration failed.\"\n",
    "        return\n",
    "    # 탐색을 디스크에 저장.\n",
    "    path = navigation_service.saveExploration()\n",
    "    print \"Exploration saved at path: \\\"\" + path + \"\\\"\"\n",
    "    # 위치 추정을 사용해 지도에서 길찾기.\n",
    "    navigation_service.startLocalization()\n",
    "    # 초기 위치로 돌아온다.\n",
    "    navigation_service.navigateToInMap([0., 0., 0.])\n",
    "    # 위치 추정 중지.\n",
    "    navigation_service.stopLocalization()\n",
    "    # 로봇이 만든 지도 검색 및 표시\n",
    "    result_map = navigation_service.getMetricalMap()\n",
    "    map_width = result_map[1]\n",
    "    map_height = result_map[2]\n",
    "    img = np.array(result_map[4]).reshape(map_width, map_height)\n",
    "    img = (100 - img) * 2.55 # from 0..100 to 255..0\n",
    "    Image.frombuffer('L',  (map_width, map_height), img, 'raw', 'L', 0, 1).show()\n",
    "    img = cv2.imread('Figure_1.png')\n",
    "    img = cv2.cvtColor(img, cv2.COLOR_BGR2GRAY)\n",
    "    cv2.namedWindow('image')\n",
    "    cv2.setMouseCallback('image',get_location)\n",
    "\n",
    "    while True:\n",
    "        cv2.imshow('image', img)\n",
    "\n",
    "        k = cv2.waitKey(1) & 0xFF\n",
    "\n",
    "        if k == 27:\n",
    "            break\n",
    "\n",
    "    cv2.destroyAllWindows()\n",
    "\n",
    "# 로봇 연결 \n",
    "\n",
    "if __name__ == \"__main__\":\n",
    "    parser = argparse.ArgumentParser()\n",
    "    parser.add_argument(\"--ip\", type=str, default=\"192.160.0.38\",\n",
    "                        help=\"Robot IP address. On robot or Local Naoqi: use '192.160.0.38'.\")\n",
    "    parser.add_argument(\"--port\", type=int, default=9559,\n",
    "                        help=\"Naoqi port number\")\n",
    "\n",
    "    args = parser.parse_args()\n",
    "    session = qi.Session()\n",
    "    try:\n",
    "        session.connect(\"tcp://\" + args.ip + \":\" + str(args.port))\n",
    "    except RuntimeError:\n",
    "        print (\"Can't connect to Naoqi at ip \\\"\" + args.ip + \"\\\" on port \" + str(args.port) +\".\\n\"\n",
    "               \"Please check your script arguments. Run with -h option for help.\")\n",
    "        sys.exit(1)\n",
    "    main(session)"
   ]
  },
  {
   "cell_type": "code",
   "execution_count": null,
   "metadata": {},
   "outputs": [],
   "source": []
  }
 ],
 "metadata": {
  "kernelspec": {
   "display_name": "Python 3",
   "language": "python",
   "name": "python3"
  },
  "language_info": {
   "codemirror_mode": {
    "name": "ipython",
    "version": 3
   },
   "file_extension": ".py",
   "mimetype": "text/x-python",
   "name": "python",
   "nbconvert_exporter": "python",
   "pygments_lexer": "ipython3",
   "version": "3.6.8"
  }
 },
 "nbformat": 4,
 "nbformat_minor": 2
}

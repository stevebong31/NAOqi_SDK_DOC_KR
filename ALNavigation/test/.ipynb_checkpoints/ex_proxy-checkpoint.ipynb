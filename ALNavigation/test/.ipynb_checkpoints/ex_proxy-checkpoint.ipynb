{
 "cells": [
  {
   "cell_type": "code",
   "execution_count": null,
   "metadata": {},
   "outputs": [],
   "source": [
    "#! /usr/bin/env python\n",
    "# -*- encoding: UTF-8 -*-\n",
    "\n",
    "from naoqi import ALProxy\n",
    "import qi\n",
    "import argparse\n",
    "import sys\n",
    "import numpy\n",
    "import Image\n",
    "from matplotlib import pyplot as plt\n",
    "\n",
    "nao_ip = \"192.168.0.48\"\n",
    "\n",
    "navigation_service = ALProxy(\"ALNavigation\" ,nao_ip, 9559)\n",
    "motion_service = ALProxy(\"ALMotion\" ,nao_ip, 9559)\n",
    "\n",
    "motion_service.wakeUp()\n",
    "\n",
    "radius = 0.2\n",
    "error_code = navigation_service.explore(radius)\n",
    "\n",
    "if error_code != 0:\n",
    "    print \"Exploration failed.\"\n",
    "    return\n",
    "\n",
    "path = navigation_service.saveExploration()\n",
    "\n",
    "print \"Exploration saved at path: \\\"\" + path + \"\\\"\"\n",
    "\n",
    "navigation_service.startLocalization()\n",
    "navigation_service.navigateToInMap([0., 0., 0.])\n",
    "navigation_service.stopLocalization()\n",
    "\n",
    "result_map = navigation_service.getMetricalMap()\n",
    "map_width = result_map[1]\n",
    "map_height = result_map[2]\n",
    "\n",
    "img = numpy.array(result_map[4]).reshape(map_width, map_height)\n",
    "img = (100 - img) * 2.55 # from 0..100 to 255..0\n",
    "img = numpy.array(img, numpy.uint8)\n",
    "\n",
    "plt.imshow(img)\n",
    "plt.show()\n",
    "\n",
    "\n"
   ]
  }
 ],
 "metadata": {
  "kernelspec": {
   "display_name": "Python 3",
   "language": "python",
   "name": "python3"
  },
  "language_info": {
   "codemirror_mode": {
    "name": "ipython",
    "version": 3
   },
   "file_extension": ".py",
   "mimetype": "text/x-python",
   "name": "python",
   "nbconvert_exporter": "python",
   "pygments_lexer": "ipython3",
   "version": "3.6.8"
  }
 },
 "nbformat": 4,
 "nbformat_minor": 2
}

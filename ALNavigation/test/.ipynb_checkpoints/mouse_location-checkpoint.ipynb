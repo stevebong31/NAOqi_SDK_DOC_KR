{
 "cells": [
  {
   "cell_type": "code",
   "execution_count": null,
   "metadata": {},
   "outputs": [
    {
     "name": "stdout",
     "output_type": "stream",
     "text": [
      "Left click\n",
      "Left click\n",
      "Left click\n",
      "Left click\n"
     ]
    }
   ],
   "source": [
    "import cv2\n",
    "import numpy as np\n",
    " \n",
    "def mouse_drawing(event, x, y, flags, params):\n",
    "    if event == cv2.EVENT_LBUTTONDOWN:\n",
    "        print(\"Left click\")\n",
    "        circles.append((x, y))\n",
    " \n",
    " \n",
    "cap = cv2.VideoCapture(0)\n",
    " \n",
    "cv2.namedWindow(\"Frame\")\n",
    "cv2.setMouseCallback(\"Frame\", mouse_drawing)\n",
    " \n",
    "circles = []\n",
    "while True:\n",
    "    _, frame = cap.read()\n",
    " \n",
    "    for center_position in circles:\n",
    "        cv2.circle(frame, center_position, 3, (0, 0, 255), -1)\n",
    " \n",
    "    cv2.imshow(\"Frame\", frame)\n",
    " \n",
    "    key = cv2.waitKey(1)\n",
    "    if key == 27:\n",
    "        break\n",
    "    elif key == ord(\"d\"):\n",
    "        circles = []\n",
    " \n",
    " \n",
    "cap.release()\n",
    "cv2.destroyAllWindows()"
   ]
  },
  {
   "cell_type": "code",
   "execution_count": null,
   "metadata": {},
   "outputs": [],
   "source": []
  }
 ],
 "metadata": {
  "kernelspec": {
   "display_name": "Python 3",
   "language": "python",
   "name": "python3"
  },
  "language_info": {
   "codemirror_mode": {
    "name": "ipython",
    "version": 3
   },
   "file_extension": ".py",
   "mimetype": "text/x-python",
   "name": "python",
   "nbconvert_exporter": "python",
   "pygments_lexer": "ipython3",
   "version": "3.6.8"
  }
 },
 "nbformat": 4,
 "nbformat_minor": 2
}

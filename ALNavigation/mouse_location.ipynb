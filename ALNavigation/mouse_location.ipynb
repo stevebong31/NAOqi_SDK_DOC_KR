{
 "cells": [
  {
   "cell_type": "code",
   "execution_count": 13,
   "metadata": {},
   "outputs": [
    {
     "name": "stdout",
     "output_type": "stream",
     "text": [
      "438 247\n",
      "479 187\n",
      "326 232\n",
      "320 185\n"
     ]
    }
   ],
   "source": [
    "#-*- coding:utf-8 -*-\n",
    "import cv2\n",
    "import numpy as np \n",
    "\n",
    "drawing = False \n",
    "mode = True \n",
    "ix,iy = -1,-1\n",
    "\n",
    "def get_location(event, x,y, flags, param):\n",
    "    global ix,iy, drawing, mode\n",
    "\n",
    "    if event == cv2.EVENT_LBUTTONDOWN: \n",
    "        drawing = True \n",
    "        print(x,y)\n",
    "\n",
    "\n",
    "img = cv2.imread('Figure_1.png')\n",
    "img = cv2.cvtColor(img, cv2.COLOR_BGR2GRAY)\n",
    "cv2.namedWindow('image')\n",
    "cv2.setMouseCallback('image',get_location)\n",
    "\n",
    "while True:\n",
    "    cv2.imshow('image', img)\n",
    "\n",
    "    k = cv2.waitKey(1) & 0xFF\n",
    "\n",
    "    if k == 27:\n",
    "        break\n",
    "\n",
    "cv2.destroyAllWindows()\n"
   ]
  },
  {
   "cell_type": "code",
   "execution_count": null,
   "metadata": {},
   "outputs": [],
   "source": []
  }
 ],
 "metadata": {
  "kernelspec": {
   "display_name": "Python 3",
   "language": "python",
   "name": "python3"
  },
  "language_info": {
   "codemirror_mode": {
    "name": "ipython",
    "version": 3
   },
   "file_extension": ".py",
   "mimetype": "text/x-python",
   "name": "python",
   "nbconvert_exporter": "python",
   "pygments_lexer": "ipython3",
   "version": "3.6.8"
  }
 },
 "nbformat": 4,
 "nbformat_minor": 2
}

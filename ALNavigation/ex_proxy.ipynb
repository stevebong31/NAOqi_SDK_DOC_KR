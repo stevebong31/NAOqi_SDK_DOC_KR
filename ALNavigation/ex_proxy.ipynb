{
 "cells": [
  {
   "cell_type": "code",
   "execution_count": 21,
   "metadata": {},
   "outputs": [
    {
     "name": "stdout",
     "output_type": "stream",
     "text": [
      "Exploration saved at path: \"/home/nao/.local/share/Explorer/2019-03-28T140519.953Z.explo\"\n"
     ]
    }
   ],
   "source": [
    "#! /usr/bin/env python\n",
    "# -*- encoding: UTF-8 -*-\n",
    "import cv2\n",
    "import numpy as np \n",
    "from naoqi import ALProxy\n",
    "import qi\n",
    "import argparse\n",
    "import sys\n",
    "import Image\n",
    "from matplotlib import pyplot as plt\n",
    "\n",
    "nao_ip = \"192.168.0.38\"\n",
    "\n",
    "\n",
    "navigation_service = ALProxy(\"ALNavigation\", nao_ip, 9559)\n",
    "motion_service = ALProxy(\"ALMotion\", nao_ip, 9559)\n",
    "tts_service = ALProxy(\"ALTextToSpeech\", nao_ip, 9559)\n",
    "\n",
    "motion_service.wakeUp() \n",
    "\n",
    "tts_service.setLanguage(\"English\")\n",
    "radius = 5\n",
    "tts_service.say(\"Start exploration\")\n",
    "error_code = navigation_service.explore(radius)\n",
    "\n",
    "if error_code != 0:\n",
    "    print \"Exploration failed.\"\n",
    "\n",
    "path = navigation_service.saveExploration()\n",
    "\n",
    "print \"Exploration saved at path: \\\"\" + path + \"\\\"\"\n",
    "\n",
    "navigation_service.startLocalization()\n",
    "navigation_service.navigateToInMap([0., 0., 0.])\n",
    "o_position = navigation_service.getRobotPositionInMap()\n",
    "navigation_service.stopLocalization()\n",
    "\n",
    "result_map = navigation_service.getMetricalMap()\n",
    "map_width = result_map[1]\n",
    "map_height = result_map[2]\n",
    "\n",
    "o_x = round(o_position[0][1]/result_map[0] + result_map[3][1]/result_map[0])\n",
    "o_y = round(o_position[0][0]/result_map[0] - result_map[3][0]/result_map[0])\n",
    "\n",
    "img = np.array(result_map[4]).reshape(map_width, map_height)\n",
    "img = (100 - img) * 2.55 # from 0..100 to 255..0\n",
    "img = np.array(img, np.uint8)\n",
    "img = cv2.cvtColor(img, cv2.COLOR_GRAY2RGB)\n",
    "\n",
    "tts_service.say(\"I got the map\")"
   ]
  },
  {
   "cell_type": "code",
   "execution_count": 27,
   "metadata": {},
   "outputs": [
    {
     "name": "stdout",
     "output_type": "stream",
     "text": [
      "(1.9874775856733322, 0.2208554446697235, 152, 124)\n",
      "[[1.931947946548462, 0.3232106566429138, -0.15058374404907227], [0.15668506920337677, 0.07017847150564194, 0.08137251436710358]]\n",
      "(-0.41252245008945465, -2.1791445910930634, 104, 76)\n",
      "[[-0.5320714712142944, -1.7105404138565063, -1.9670641422271729], [3.479320526123047, 2.1006200313568115, 1.0286678075790405]]\n"
     ]
    },
    {
     "ename": "RuntimeError",
     "evalue": "\tALNavigation::startLocalization\n\tSession closed",
     "output_type": "error",
     "traceback": [
      "\u001b[0;31m---------------------------------------------------------------------------\u001b[0m",
      "\u001b[0;31mRuntimeError\u001b[0m                              Traceback (most recent call last)",
      "\u001b[0;32m<ipython-input-27-bbd6fce5ac3e>\u001b[0m in \u001b[0;36m<module>\u001b[0;34m()\u001b[0m\n\u001b[1;32m     34\u001b[0m     \u001b[0mdrawing\u001b[0m \u001b[0;34m=\u001b[0m \u001b[0mTrue\u001b[0m\u001b[0;34m\u001b[0m\u001b[0m\n\u001b[1;32m     35\u001b[0m     \u001b[0mcv2\u001b[0m\u001b[0;34m.\u001b[0m\u001b[0mcircle\u001b[0m\u001b[0;34m(\u001b[0m\u001b[0mimg_display\u001b[0m\u001b[0;34m,\u001b[0m \u001b[0;34m(\u001b[0m\u001b[0mnp\u001b[0m\u001b[0;34m.\u001b[0m\u001b[0muint8\u001b[0m\u001b[0;34m(\u001b[0m\u001b[0mo_x\u001b[0m\u001b[0;34m)\u001b[0m\u001b[0;34m,\u001b[0m\u001b[0mnp\u001b[0m\u001b[0;34m.\u001b[0m\u001b[0muint8\u001b[0m\u001b[0;34m(\u001b[0m\u001b[0mo_y\u001b[0m\u001b[0;34m)\u001b[0m\u001b[0;34m)\u001b[0m\u001b[0;34m,\u001b[0m \u001b[0;36m1\u001b[0m\u001b[0;34m,\u001b[0m \u001b[0;34m(\u001b[0m\u001b[0;36m0\u001b[0m\u001b[0;34m,\u001b[0m\u001b[0;36m0\u001b[0m\u001b[0;34m,\u001b[0m\u001b[0;36m255\u001b[0m\u001b[0;34m)\u001b[0m\u001b[0;34m,\u001b[0m \u001b[0;36m1\u001b[0m\u001b[0;34m)\u001b[0m\u001b[0;34m\u001b[0m\u001b[0m\n\u001b[0;32m---> 36\u001b[0;31m     \u001b[0mnavigation_service\u001b[0m\u001b[0;34m.\u001b[0m\u001b[0mstartLocalization\u001b[0m\u001b[0;34m(\u001b[0m\u001b[0;34m)\u001b[0m\u001b[0;34m\u001b[0m\u001b[0m\n\u001b[0m\u001b[1;32m     37\u001b[0m     \u001b[0mc_position\u001b[0m \u001b[0;34m=\u001b[0m \u001b[0mnavigation_service\u001b[0m\u001b[0;34m.\u001b[0m\u001b[0mgetRobotPositionInMap\u001b[0m\u001b[0;34m(\u001b[0m\u001b[0;34m)\u001b[0m\u001b[0;34m\u001b[0m\u001b[0m\n\u001b[1;32m     38\u001b[0m     \u001b[0mnavigation_service\u001b[0m\u001b[0;34m.\u001b[0m\u001b[0mstopLocalization\u001b[0m\u001b[0;34m(\u001b[0m\u001b[0;34m)\u001b[0m\u001b[0;34m\u001b[0m\u001b[0m\n",
      "\u001b[0;32m/home/mmmil/naoqi/pynaoqi-python2.7-2.5.5.5-linux64/lib/python2.7/site-packages/naoqi.pyc\u001b[0m in \u001b[0;36m__call__\u001b[0;34m(self, *args, **kwargs)\u001b[0m\n\u001b[1;32m    192\u001b[0m                     \u001b[0mself\u001b[0m\u001b[0;34m.\u001b[0m\u001b[0m__method__\u001b[0m \u001b[0;34m=\u001b[0m \u001b[0mmethod\u001b[0m\u001b[0;34m\u001b[0m\u001b[0m\n\u001b[1;32m    193\u001b[0m                 \u001b[0;32mdef\u001b[0m \u001b[0m__call__\u001b[0m\u001b[0;34m(\u001b[0m\u001b[0mself\u001b[0m\u001b[0;34m,\u001b[0m \u001b[0;34m*\u001b[0m\u001b[0margs\u001b[0m\u001b[0;34m,\u001b[0m \u001b[0;34m**\u001b[0m\u001b[0mkwargs\u001b[0m\u001b[0;34m)\u001b[0m\u001b[0;34m:\u001b[0m\u001b[0;34m\u001b[0m\u001b[0m\n\u001b[0;32m--> 194\u001b[0;31m                     \u001b[0;32mreturn\u001b[0m \u001b[0mself\u001b[0m\u001b[0;34m.\u001b[0m\u001b[0m__wrapped__\u001b[0m\u001b[0;34m.\u001b[0m\u001b[0mmethod_missing\u001b[0m\u001b[0;34m(\u001b[0m\u001b[0mself\u001b[0m\u001b[0;34m.\u001b[0m\u001b[0m__method__\u001b[0m\u001b[0;34m,\u001b[0m \u001b[0;34m*\u001b[0m\u001b[0margs\u001b[0m\u001b[0;34m,\u001b[0m \u001b[0;34m**\u001b[0m\u001b[0mkwargs\u001b[0m\u001b[0;34m)\u001b[0m\u001b[0;34m\u001b[0m\u001b[0m\n\u001b[0m\u001b[1;32m    195\u001b[0m \u001b[0;34m\u001b[0m\u001b[0m\n\u001b[1;32m    196\u001b[0m             \u001b[0;32mreturn\u001b[0m \u001b[0mMethodMissing\u001b[0m\u001b[0;34m(\u001b[0m\u001b[0mself\u001b[0m\u001b[0;34m,\u001b[0m \u001b[0mattr\u001b[0m\u001b[0;34m)\u001b[0m\u001b[0;34m\u001b[0m\u001b[0m\n",
      "\u001b[0;32m/home/mmmil/naoqi/pynaoqi-python2.7-2.5.5.5-linux64/lib/python2.7/site-packages/naoqi.pyc\u001b[0m in \u001b[0;36mmethod_missing\u001b[0;34m(self, method, *args, **kwargs)\u001b[0m\n\u001b[1;32m    262\u001b[0m                 \u001b[0mresult\u001b[0m \u001b[0;34m=\u001b[0m \u001b[0mself\u001b[0m\u001b[0;34m.\u001b[0m\u001b[0mpythonCall\u001b[0m\u001b[0;34m(\u001b[0m\u001b[0mlist\u001b[0m\u001b[0;34m)\u001b[0m\u001b[0;34m\u001b[0m\u001b[0m\n\u001b[1;32m    263\u001b[0m           \u001b[0;32mexcept\u001b[0m \u001b[0mRuntimeError\u001b[0m\u001b[0;34m,\u001b[0m\u001b[0me\u001b[0m\u001b[0;34m:\u001b[0m\u001b[0;34m\u001b[0m\u001b[0m\n\u001b[0;32m--> 264\u001b[0;31m                 \u001b[0;32mraise\u001b[0m \u001b[0me\u001b[0m\u001b[0;34m\u001b[0m\u001b[0m\n\u001b[0m\u001b[1;32m    265\u001b[0m                 \u001b[0;31m#print e.args[0]\u001b[0m\u001b[0;34m\u001b[0m\u001b[0;34m\u001b[0m\u001b[0m\n\u001b[1;32m    266\u001b[0m \u001b[0;34m\u001b[0m\u001b[0m\n",
      "\u001b[0;31mRuntimeError\u001b[0m: \tALNavigation::startLocalization\n\tSession closed"
     ]
    }
   ],
   "source": [
    "def get_location(event, x,y, flags, param):\n",
    "    global ix,iy, drawing, mode, c_position\n",
    "\n",
    "    if event == cv2.EVENT_FLAG_LBUTTON: \n",
    "        drawing = True\n",
    "        cv2.circle(img_display, (x,y), 1, (255,0,0), 1)\n",
    "#         cv2.imshow('image', img_display)\n",
    "    elif event == cv2.EVENT_LBUTTONUP:\n",
    "        x2m = y * result_map[0] + result_map[3][0]\n",
    "        y2m = x * result_map[0] - result_map[3][1]\n",
    "        print (x2m,y2m,x,y)\n",
    "        tts_service.say(\"Start navigate to position\" + str(round(x2m,2))+ \",\" +str(round(y2m,2)))\n",
    "        \n",
    "        navigation_service.startLocalization()\n",
    "        navigation_service.navigateToInMap([x2m, y2m, 0.])        \n",
    "        c_position = navigation_service.getRobotPositionInMap()\n",
    "        navigation_service.stopLocalization()\n",
    "        \n",
    "        tts_service.say(\"navigation complete\")\n",
    "        print(c_position)\n",
    "        \n",
    "\n",
    "       \n",
    "drawing = False \n",
    "mode = True \n",
    "ix,iy = -1,-1\n",
    "\n",
    "img_display = img.copy()\n",
    "\n",
    "cv2.namedWindow('image', cv2.WINDOW_NORMAL)\n",
    "cv2.setMouseCallback('image',get_location)\n",
    "\n",
    "while True:\n",
    "    drawing = True\n",
    "    cv2.circle(img_display, (np.uint8(o_x),np.uint8(o_y)), 1, (0,0,255), 1)\n",
    "    navigation_service.startLocalization()\n",
    "    c_position = navigation_service.getRobotPositionInMap()\n",
    "    navigation_service.stopLocalization()\n",
    "    c_x = round(c_position[0][1]/result_map[0] + result_map[3][1]/result_map[0])\n",
    "    c_y = round(c_position[0][0]/result_map[0] - result_map[3][0]/result_map[0])\n",
    "    cv2.circle(img_display, (np.uint8(c_x),np.uint8(c_y)), 1, (0,255,0), 1)\n",
    "    cv2.imshow('image', img_display) \n",
    "    k = cv2.waitKey(1) & 0xFF\n",
    "\n",
    "    if k == 27:\n",
    "        break\n",
    "\n",
    "cv2.destroyAllWindows()"
   ]
  },
  {
   "cell_type": "code",
   "execution_count": 18,
   "metadata": {},
   "outputs": [
    {
     "data": {
      "text/plain": [
       "[-3.1526215076446533, 3.563805341720581]"
      ]
     },
     "execution_count": 18,
     "metadata": {},
     "output_type": "execute_result"
    }
   ],
   "source": [
    "result_map[3]\n"
   ]
  },
  {
   "cell_type": "code",
   "execution_count": 11,
   "metadata": {},
   "outputs": [
    {
     "data": {
      "text/plain": [
       "-14.877540538418682"
      ]
     },
     "execution_count": 11,
     "metadata": {},
     "output_type": "execute_result"
    }
   ],
   "source": [
    "90/result_map[3][0]"
   ]
  },
  {
   "cell_type": "code",
   "execution_count": null,
   "metadata": {},
   "outputs": [],
   "source": []
  }
 ],
 "metadata": {
  "kernelspec": {
   "display_name": "Python 2",
   "language": "python",
   "name": "python2"
  },
  "language_info": {
   "codemirror_mode": {
    "name": "ipython",
    "version": 2
   },
   "file_extension": ".py",
   "mimetype": "text/x-python",
   "name": "python",
   "nbconvert_exporter": "python",
   "pygments_lexer": "ipython2",
   "version": "2.7.12"
  }
 },
 "nbformat": 4,
 "nbformat_minor": 2
}
